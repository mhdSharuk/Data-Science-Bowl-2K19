{
  "nbformat": 4,
  "nbformat_minor": 0,
  "metadata": {
    "colab": {
      "name": "DSB_2019_1",
      "provenance": [],
      "collapsed_sections": [
        "K9aQumlxWtNk",
        "dpc4JlvpWwzU",
        "ipu8YE3pW2Jg",
        "y_onH7wrW8A_",
        "WABCkRtmXB9h"
      ],
      "machine_shape": "hm",
      "include_colab_link": true
    },
    "kernelspec": {
      "name": "python3",
      "display_name": "Python 3"
    },
    "accelerator": "TPU"
  },
  "cells": [
    {
      "cell_type": "markdown",
      "metadata": {
        "id": "view-in-github",
        "colab_type": "text"
      },
      "source": [
        "<a href=\"https://colab.research.google.com/github/mhdSharuk/Data-Science-Bowl-2K19/blob/master/DSB_2019_1.ipynb\" target=\"_parent\"><img src=\"https://colab.research.google.com/assets/colab-badge.svg\" alt=\"Open In Colab\"/></a>"
      ]
    },
    {
      "cell_type": "markdown",
      "metadata": {
        "id": "K9aQumlxWtNk",
        "colab_type": "text"
      },
      "source": [
        "# Notes"
      ]
    },
    {
      "cell_type": "markdown",
      "metadata": {
        "id": "qrTjL-Z6Vajd",
        "colab_type": "text"
      },
      "source": [
        "**PBS KIDS MEASURE UP APP**\n",
        "\n",
        "\n",
        "![alt text](data:image/png;base64,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)\n",
        "\n",
        "\n",
        "\n",
        "**1) Description of the all the columns**\n",
        "\n",
        "\n",
        "\n",
        "\n",
        "\n",
        "*   **event_id** - Randomly generated unique identifier for the event type. Maps to event_id column in specs table.\n",
        "*   **game_session** - Randomly generated unique identifier grouping events within a single game or video play session.\n",
        "*   **timestamp** - Client-generated datetime\n",
        "*   **event_data** - Semi-structured JSON formatted string containing the events parameters. Default fields are: event_count, event_code, and game_time; otherwise fields are determined by the event type.\n",
        "*   **installation_id** - Randomly generated unique identifier grouping game sessions within a single installed application instance.\n",
        "*   **event_count** - Incremental counter of events within a game session (offset at 1). Extracted from event_data.\n",
        "*   **event_code** - Identifier of the event 'class'. Unique per game, but may be duplicated across games. E.g. event code '2000' always identifies the 'Start Game' event for all games. Extracted from event_data.\n",
        "*   **game_time** - Time in milliseconds since the start of the game session. Extracted from event_data.\n",
        "*   **title** - Title of the game or video.\n",
        "*   **type** - Media type of the game or video. Possible values are: 'Game', 'Assessment', 'Activity', 'Clip'.\n",
        "*   **world** - The section of the application the game or video belongs to. Helpful to identify the educational curriculum goals of the media. Possible values are: 'NONE' (at the app's start screen), TREETOPCITY' (Length/Height), 'MAGMAPEAK' (Capacity/Displacement), 'CRYSTALCAVES' (Weight).\n",
        "\n",
        "\n",
        "\n",
        "\n",
        "\n",
        "\n",
        "**2) Groupby data to get the number of attempts each installation_id played**\n",
        "\n",
        "\n",
        "*   train_data.groupby(['game_session','installation_id'],as_index =False)['title'].agg({'value_counts'}).rename(columns={'value_counts':'Total_no'}).head()\n",
        "\n",
        "*   test_data.groupby(['game_session','installation_id'])['title'].agg({'value_counts'}).rename(columns={'value_counts':'Total_no'}).index.get_level_values(3)\n",
        "\n",
        "\n",
        "**3) Event Codes Meaning**\n",
        "\n",
        "*   2000 : Start of the game\n",
        "*   3010 : Voice description of what to do in the game\n",
        "*   3110 : Starting of game with the voice description in the background\n",
        "*   4070 : Player starting to play the game\n",
        "\n",
        "\n",
        "**4) Data Analysis**\n",
        "* All Event Id has the same value for a particular game title event though they have different installation id\n",
        "* All Event Code have same value for a particular Event Id"
      ]
    },
    {
      "cell_type": "markdown",
      "metadata": {
        "id": "dpc4JlvpWwzU",
        "colab_type": "text"
      },
      "source": [
        "# Mounting Google Drive"
      ]
    },
    {
      "cell_type": "code",
      "metadata": {
        "id": "UEDPC7NfiRt8",
        "colab_type": "code",
        "outputId": "a4823014-8213-49d3-8550-03349d46c3fa",
        "colab": {
          "base_uri": "https://localhost:8080/",
          "height": 124
        }
      },
      "source": [
        "from google.colab import drive\n",
        "drive.mount('/content/drive')"
      ],
      "execution_count": 1,
      "outputs": [
        {
          "output_type": "stream",
          "text": [
            "Go to this URL in a browser: https://accounts.google.com/o/oauth2/auth?client_id=947318989803-6bn6qk8qdgf4n4g3pfee6491hc0brc4i.apps.googleusercontent.com&redirect_uri=urn%3Aietf%3Awg%3Aoauth%3A2.0%3Aoob&scope=email%20https%3A%2F%2Fwww.googleapis.com%2Fauth%2Fdocs.test%20https%3A%2F%2Fwww.googleapis.com%2Fauth%2Fdrive%20https%3A%2F%2Fwww.googleapis.com%2Fauth%2Fdrive.photos.readonly%20https%3A%2F%2Fwww.googleapis.com%2Fauth%2Fpeopleapi.readonly&response_type=code\n",
            "\n",
            "Enter your authorization code:\n",
            "··········\n",
            "Mounted at /content/drive\n"
          ],
          "name": "stdout"
        }
      ]
    },
    {
      "cell_type": "markdown",
      "metadata": {
        "id": "ipu8YE3pW2Jg",
        "colab_type": "text"
      },
      "source": [
        "# Importing Required Modules"
      ]
    },
    {
      "cell_type": "code",
      "metadata": {
        "id": "6I9jpVJ15UiV",
        "colab_type": "code",
        "colab": {}
      },
      "source": [
        "!pip install featexp"
      ],
      "execution_count": 0,
      "outputs": []
    },
    {
      "cell_type": "code",
      "metadata": {
        "id": "iRb74YrCNcB7",
        "colab_type": "code",
        "colab": {}
      },
      "source": [
        "!pip install catboost"
      ],
      "execution_count": 0,
      "outputs": []
    },
    {
      "cell_type": "code",
      "metadata": {
        "id": "98eG8JrsgzIs",
        "colab_type": "code",
        "colab": {}
      },
      "source": [
        "import pandas as pd\n",
        "pd.set_option('display.max_columns', None)\n",
        "pd.set_option('display.max_rows', None)\n",
        "pd.set_option('display.max_colwidth', -1)\n",
        "import featexp \n",
        "import numpy as np\n",
        "import os\n",
        "import gc\n",
        "import matplotlib.pyplot as plt\n",
        "from tqdm import tqdm_notebook\n",
        "import json\n",
        "import pprint\n",
        "import seaborn as sns\n",
        "from sklearn.preprocessing import LabelEncoder\n",
        "from catboost import CatBoostClassifier,CatBoostRegressor,Pool,cv\n",
        "import xgboost as xgb\n",
        "import lightgbm as lgb"
      ],
      "execution_count": 0,
      "outputs": []
    },
    {
      "cell_type": "markdown",
      "metadata": {
        "id": "y_onH7wrW8A_",
        "colab_type": "text"
      },
      "source": [
        "# Helper Functions"
      ]
    },
    {
      "cell_type": "code",
      "metadata": {
        "id": "jloCQZNQz6Sv",
        "colab_type": "code",
        "colab": {}
      },
      "source": [
        "def quadratic_weight_kappa(actual, prediction,n=4,hist_range=(0,3)):\n",
        "  O = confusion_matrix((actual,prediction))\n",
        "  O = np.divide(O,np.sum(O))\n",
        "\n",
        "  W = np.zeros((n,n))\n",
        "  for i in range(n):\n",
        "    for j in range(n):\n",
        "      W[i][j] = ((i-j)**2)/((n-1)**2)\n",
        "\n",
        "  actual_histogram = np.histogram(actual,bins=n,range=hist_range)[0]\n",
        "  prediction_histogram = np.histogram(prediction,bins=n,range=hist_range)[0]\n",
        "\n",
        "  E = np.outer(actual_histogram,prediction_histogram)\n",
        "  E = np.divide(E,np.sum(E))\n",
        "\n",
        "  num = np.sum(np.multiply(W,O))\n",
        "  density = np.sum(np.multiply(W,E))\n",
        "\n",
        "  return 1 - np.divide(num,density)"
      ],
      "execution_count": 0,
      "outputs": []
    },
    {
      "cell_type": "code",
      "metadata": {
        "id": "tG_mhI06hCeZ",
        "colab_type": "code",
        "colab": {}
      },
      "source": [
        "def read_file():\n",
        "  specs = pd.read_csv('/content/drive/My Drive/specs.csv')\n",
        "  train_labels = pd.read_csv('./drive/My Drive/train_labels.csv.zip')\n",
        "  train = pd.read_csv('./drive/My Drive/train.csv.zip')\n",
        "  test = pd.read_csv('./drive/My Drive/test.csv.zip')\n",
        "  sub = pd.read_csv('./drive/My Drive/sample_submission.csv')\n",
        "  \n",
        "  return specs,train_labels,train,test,sub"
      ],
      "execution_count": 0,
      "outputs": []
    },
    {
      "cell_type": "code",
      "metadata": {
        "id": "VmBXHXT5OwPL",
        "colab_type": "code",
        "colab": {}
      },
      "source": [
        "specs,train_labels,train,test,sub = read_file()"
      ],
      "execution_count": 0,
      "outputs": []
    },
    {
      "cell_type": "code",
      "metadata": {
        "id": "tuYKwSRObQGR",
        "colab_type": "code",
        "colab": {}
      },
      "source": [
        "def prepare_data(df):\n",
        "\n",
        "    df['attempt'] = 0\n",
        "    df.loc[(df['title'] == 'Bird Measurer (Assessment)') & (df['event_code'] == 4110),\n",
        "           'attempt'] = 1\n",
        "    df.loc[(df['type'] == 'Assessment') &\n",
        "           (df['title'] != 'Bird Measurer (Assessment)')\n",
        "           & (df['event_code'] == 4100), 'attempt'] = 1\n",
        "\n",
        "    df['correct'] = None\n",
        "    df.loc[(df['attempt'] == 1) & (df['event_data'].str.contains('\"correct\":true')), 'correct'] = True\n",
        "    df.loc[(df['attempt'] == 1) & (df['event_data'].str.contains('\"correct\":false')), 'correct'] = False\n",
        "\n",
        "    df['success_attempt'] = df['correct'] * df['attempt']\n",
        "    df['unsuccess_attempt'] = (df['correct'] == False) * df['attempt']\n",
        "\n",
        "    df['world'] = df['world'].astype('category')\n",
        "    df['type'] = df['type'].astype('category')\n",
        "    if 'accuracy_group' in df.columns:\n",
        "        df['accuracy_group_cat'] = df['accuracy_group'].astype('category')\n",
        "\n",
        "    df['accuracy_calculated'] = df.groupby(['installation_id', 'game_session'])['success_attempt'].transform('sum') / \\\n",
        "                                df.groupby(['installation_id', 'game_session'])['attempt'].transform('sum')\n",
        "    df['total_attempts'] = df.groupby(['installation_id', 'game_session'])['attempt'].transform('sum')\n",
        "    return df"
      ],
      "execution_count": 0,
      "outputs": []
    },
    {
      "cell_type": "code",
      "metadata": {
        "id": "xVoEwqqFVhj3",
        "colab_type": "code",
        "colab": {}
      },
      "source": [
        "def get_datetime(df):\n",
        "  df['timestamp'] = pd.to_datetime(df['timestamp'])\n",
        "  df['date'] = df['timestamp'].dt.date\n",
        "  df['month'] = df['timestamp'].dt.month\n",
        "  df['hour'] = df['timestamp'].dt.hour\n",
        "  df['minute'] = df['timestamp'].dt.minute\n",
        "  df['day_of_week'] = df['timestamp'].dt.dayofweek\n",
        "  \n",
        "for c in [train,test]:\n",
        "  get_datetime(c)\n",
        "  c.pop('timestamp')"
      ],
      "execution_count": 0,
      "outputs": []
    },
    {
      "cell_type": "code",
      "metadata": {
        "id": "_7XX65JBhstm",
        "colab_type": "code",
        "colab": {}
      },
      "source": [
        "def gametime_to(df):\n",
        "  df['game_time_seconds'] = df['game_time']/1000\n",
        "\n",
        "gametime_to(train)\n",
        "gametime_to(test)"
      ],
      "execution_count": 0,
      "outputs": []
    },
    {
      "cell_type": "markdown",
      "metadata": {
        "id": "WABCkRtmXB9h",
        "colab_type": "text"
      },
      "source": [
        "# Exploratatry Data Analysis"
      ]
    },
    {
      "cell_type": "code",
      "metadata": {
        "id": "S6RUYfwcbhb-",
        "colab_type": "code",
        "colab": {}
      },
      "source": [
        "event_map = {}\n",
        "for eid,code in train[['event_id','event_code']].values:\n",
        "  event_map[eid] = code"
      ],
      "execution_count": 0,
      "outputs": []
    },
    {
      "cell_type": "code",
      "metadata": {
        "id": "EunY4uP7Xh1h",
        "colab_type": "code",
        "colab": {}
      },
      "source": [
        "specs['event_code'] = specs['event_id'].map(event_map)\n",
        "specs = specs[['event_id','event_code','info','args']]"
      ],
      "execution_count": 0,
      "outputs": []
    },
    {
      "cell_type": "code",
      "metadata": {
        "id": "tBgyL25eajnn",
        "colab_type": "code",
        "colab": {
          "base_uri": "https://localhost:8080/",
          "height": 924
        },
        "outputId": "2d98d82a-e3e3-4bfb-e452-b2126b1aaf32"
      },
      "source": [
        "specs.head()"
      ],
      "execution_count": 14,
      "outputs": [
        {
          "output_type": "execute_result",
          "data": {
            "text/html": [
              "<div>\n",
              "<style scoped>\n",
              "    .dataframe tbody tr th:only-of-type {\n",
              "        vertical-align: middle;\n",
              "    }\n",
              "\n",
              "    .dataframe tbody tr th {\n",
              "        vertical-align: top;\n",
              "    }\n",
              "\n",
              "    .dataframe thead th {\n",
              "        text-align: right;\n",
              "    }\n",
              "</style>\n",
              "<table border=\"1\" class=\"dataframe\">\n",
              "  <thead>\n",
              "    <tr style=\"text-align: right;\">\n",
              "      <th></th>\n",
              "      <th>event_id</th>\n",
              "      <th>event_code</th>\n",
              "      <th>info</th>\n",
              "      <th>args</th>\n",
              "    </tr>\n",
              "  </thead>\n",
              "  <tbody>\n",
              "    <tr>\n",
              "      <th>0</th>\n",
              "      <td>2b9272f4</td>\n",
              "      <td>3121.0</td>\n",
              "      <td>The end of system-initiated feedback (Correct) event occurs when the game finishes delivering feedback to the player in response to a correct round attempt (pressing the go button with the correct answer). It contains information that describes the duration and content of the instruction, and will likely occur in conjunction with a beat round event. These events are used to determine the effectiveness of the feedback. We can answer questions like, \"how much time elapsed while the game was presenting feedback?\"</td>\n",
              "      <td>[{\"name\":\"game_time\",\"type\":\"int\",\"info\":\"millisecond count since start of game\"},{\"name\":\"round\",\"type\":\"int\",\"info\":\"number of the current round when the event takes place or 0 if no round\"},{\"name\":\"level\",\"type\":\"int\",\"info\":\"number of the current level when the event takes place or 0 if no level\"},{\"name\":\"description\",\"type\":\"string\",\"info\":\"the text or description of the instruction\"},{\"name\":\"identifier\",\"type\":\"string\",\"info\":\"a unique identifier for this piece of instruction\"},{\"name\":\"media_type\",\"type\":\"string\",\"info\":\"the type of media that has just played:\\n'audio' || 'animation' || 'other'\"},{\"name\":\"duration\",\"type\":\"int\",\"info\":\"the duration of the media playback in milliseconds\"},{\"name\":\"event_count\",\"type\":\"int\",\"info\":\"session event counter\"},{\"name\":\"event_code\",\"type\":\"int\",\"info\":\"event class identifier\"}]</td>\n",
              "    </tr>\n",
              "    <tr>\n",
              "      <th>1</th>\n",
              "      <td>df4fe8b6</td>\n",
              "      <td>3120.0</td>\n",
              "      <td>The end of system-initiated feedback (Incorrect) event occurs when the game finishes delivering feedback to the player in response to an incorrect round attempt (pressing the go button with the incorrect answer). It contains information that describes the content of the instruction. These events are used to determine the effectiveness of the feedback. We can answer questions like, \"how much time elapsed while the game was presenting feedback?\"</td>\n",
              "      <td>[{\"name\":\"game_time\",\"type\":\"int\",\"info\":\"millisecond count since start of game\"},{\"name\":\"description\",\"type\":\"string\",\"info\":\"the text or description of the instruction\"},{\"name\":\"identifier\",\"type\":\"string\",\"info\":\"a unique identifier for this piece of instruction\"},{\"name\":\"media_type\",\"type\":\"string\",\"info\":\"the type of media that has just played:\\n'audio' || 'animation' || 'other'\"},{\"name\":\"duration\",\"type\":\"int\",\"info\":\"the duration of the media playback in milliseconds\"},{\"name\":\"event_count\",\"type\":\"int\",\"info\":\"session event counter\"},{\"name\":\"event_code\",\"type\":\"int\",\"info\":\"event class identifier\"}]</td>\n",
              "    </tr>\n",
              "    <tr>\n",
              "      <th>2</th>\n",
              "      <td>3babcb9b</td>\n",
              "      <td>3110.0</td>\n",
              "      <td>The end of system-initiated instruction event occurs when the game finishes delivering instructions to the player. It contains information that describes the content of the instruction including duration. These events are used to determine the effectiveness of the instructions and the amount of time they consume. We can answer questions like, \"how much time elapsed while the game was presenting instruction?\"</td>\n",
              "      <td>[{\"name\":\"game_time\",\"type\":\"int\",\"info\":\"millisecond count since start of game\"},{\"name\":\"round\",\"type\":\"int\",\"info\":\"number of the current round when the event takes place or 0 if no round\"},{\"name\":\"description\",\"type\":\"string\",\"info\":\"the text or description of the instruction\"},{\"name\":\"identifier\",\"type\":\"string\",\"info\":\"a unique identifier for this piece of instruction\"},{\"name\":\"media_type\",\"type\":\"string\",\"info\":\"the type of media that has just played:\\n'audio' || 'animation' || 'other'\"},{\"name\":\"duration\",\"type\":\"int\",\"info\":\"the duration of the media playback in milliseconds\"},{\"name\":\"event_count\",\"type\":\"int\",\"info\":\"session event counter\"},{\"name\":\"event_code\",\"type\":\"int\",\"info\":\"event class identifier\"}]</td>\n",
              "    </tr>\n",
              "    <tr>\n",
              "      <th>3</th>\n",
              "      <td>7f0836bf</td>\n",
              "      <td>3110.0</td>\n",
              "      <td>The end of system-initiated instruction event occurs when the game finishes delivering instructions to the player. It contains information that describes the content of the instruction including duration. These events are used to determine the effectiveness of the instructions and the amount of time they consume. We can answer questions like \"how much time elapsed while the game was presenting instruction?\"</td>\n",
              "      <td>[{\"name\":\"game_time\",\"type\":\"int\",\"info\":\"millisecond count since start of game\"},{\"name\":\"round\",\"type\":\"int\",\"info\":\"number of the current round when the event takes place or 0 if no round\"},{\"name\":\"description\",\"type\":\"string\",\"info\":\"the text or description of the instruction\"},{\"name\":\"identifier\",\"type\":\"string\",\"info\":\"a unique identifier for this piece of instruction\"},{\"name\":\"media_type\",\"type\":\"string\",\"info\":\"the type of media that has just played:\\n'audio' || 'animation' || 'other'\"},{\"name\":\"duration\",\"type\":\"int\",\"info\":\"the duration of the media playback in milliseconds\"},{\"name\":\"event_count\",\"type\":\"int\",\"info\":\"session event counter\"},{\"name\":\"event_code\",\"type\":\"int\",\"info\":\"event class identifier\"}]</td>\n",
              "    </tr>\n",
              "    <tr>\n",
              "      <th>4</th>\n",
              "      <td>ab3136ba</td>\n",
              "      <td>3110.0</td>\n",
              "      <td>The end of system-initiated instruction event occurs when the game finishes delivering instructions to the player. It contains information that describes the content of the instruction including duration. These events are used to determine the effectiveness of the instructions and the amount of time they consume. We can answer questions like \"how much time elapsed while the game was presenting instruction?\"</td>\n",
              "      <td>[{\"name\":\"game_time\",\"type\":\"int\",\"info\":\"millisecond count since start of game\"},{\"name\":\"round\",\"type\":\"int\",\"info\":\"number of the current round when the event takes place or 0 if no round\"},{\"name\":\"description\",\"type\":\"string\",\"info\":\"the text or description of the instruction\"},{\"name\":\"identifier\",\"type\":\"string\",\"info\":\"a unique identifier for this piece of instruction\"},{\"name\":\"media_type\",\"type\":\"string\",\"info\":\"the type of media that has just played:\\n'audio' || 'animation' || 'other'\"},{\"name\":\"duration\",\"type\":\"int\",\"info\":\"the duration of the media playback in milliseconds\"},{\"name\":\"event_count\",\"type\":\"int\",\"info\":\"session event counter\"},{\"name\":\"event_code\",\"type\":\"int\",\"info\":\"event class identifier\"}]</td>\n",
              "    </tr>\n",
              "  </tbody>\n",
              "</table>\n",
              "</div>"
            ],
            "text/plain": [
              "   event_id  event_code  \\\n",
              "0  2b9272f4  3121.0       \n",
              "1  df4fe8b6  3120.0       \n",
              "2  3babcb9b  3110.0       \n",
              "3  7f0836bf  3110.0       \n",
              "4  ab3136ba  3110.0       \n",
              "\n",
              "                                                                                                                                                                                                                                                                                                                                                                                                                                                                                                                                  info  \\\n",
              "0  The end of system-initiated feedback (Correct) event occurs when the game finishes delivering feedback to the player in response to a correct round attempt (pressing the go button with the correct answer). It contains information that describes the duration and content of the instruction, and will likely occur in conjunction with a beat round event. These events are used to determine the effectiveness of the feedback. We can answer questions like, \"how much time elapsed while the game was presenting feedback?\"   \n",
              "1  The end of system-initiated feedback (Incorrect) event occurs when the game finishes delivering feedback to the player in response to an incorrect round attempt (pressing the go button with the incorrect answer). It contains information that describes the content of the instruction. These events are used to determine the effectiveness of the feedback. We can answer questions like, \"how much time elapsed while the game was presenting feedback?\"                                                                       \n",
              "2  The end of system-initiated instruction event occurs when the game finishes delivering instructions to the player. It contains information that describes the content of the instruction including duration. These events are used to determine the effectiveness of the instructions and the amount of time they consume. We can answer questions like, \"how much time elapsed while the game was presenting instruction?\"                                                                                                           \n",
              "3  The end of system-initiated instruction event occurs when the game finishes delivering instructions to the player. It contains information that describes the content of the instruction including duration. These events are used to determine the effectiveness of the instructions and the amount of time they consume. We can answer questions like \"how much time elapsed while the game was presenting instruction?\"                                                                                                            \n",
              "4  The end of system-initiated instruction event occurs when the game finishes delivering instructions to the player. It contains information that describes the content of the instruction including duration. These events are used to determine the effectiveness of the instructions and the amount of time they consume. We can answer questions like \"how much time elapsed while the game was presenting instruction?\"                                                                                                            \n",
              "\n",
              "                                                                                                                                                                                                                                                                                                                                                                                                                                                                                                                                                                                                                                                                                                                                                                                                                                                                        args  \n",
              "0  [{\"name\":\"game_time\",\"type\":\"int\",\"info\":\"millisecond count since start of game\"},{\"name\":\"round\",\"type\":\"int\",\"info\":\"number of the current round when the event takes place or 0 if no round\"},{\"name\":\"level\",\"type\":\"int\",\"info\":\"number of the current level when the event takes place or 0 if no level\"},{\"name\":\"description\",\"type\":\"string\",\"info\":\"the text or description of the instruction\"},{\"name\":\"identifier\",\"type\":\"string\",\"info\":\"a unique identifier for this piece of instruction\"},{\"name\":\"media_type\",\"type\":\"string\",\"info\":\"the type of media that has just played:\\n'audio' || 'animation' || 'other'\"},{\"name\":\"duration\",\"type\":\"int\",\"info\":\"the duration of the media playback in milliseconds\"},{\"name\":\"event_count\",\"type\":\"int\",\"info\":\"session event counter\"},{\"name\":\"event_code\",\"type\":\"int\",\"info\":\"event class identifier\"}]  \n",
              "1  [{\"name\":\"game_time\",\"type\":\"int\",\"info\":\"millisecond count since start of game\"},{\"name\":\"description\",\"type\":\"string\",\"info\":\"the text or description of the instruction\"},{\"name\":\"identifier\",\"type\":\"string\",\"info\":\"a unique identifier for this piece of instruction\"},{\"name\":\"media_type\",\"type\":\"string\",\"info\":\"the type of media that has just played:\\n'audio' || 'animation' || 'other'\"},{\"name\":\"duration\",\"type\":\"int\",\"info\":\"the duration of the media playback in milliseconds\"},{\"name\":\"event_count\",\"type\":\"int\",\"info\":\"session event counter\"},{\"name\":\"event_code\",\"type\":\"int\",\"info\":\"event class identifier\"}]                                                                                                                                                                                                                                \n",
              "2  [{\"name\":\"game_time\",\"type\":\"int\",\"info\":\"millisecond count since start of game\"},{\"name\":\"round\",\"type\":\"int\",\"info\":\"number of the current round when the event takes place or 0 if no round\"},{\"name\":\"description\",\"type\":\"string\",\"info\":\"the text or description of the instruction\"},{\"name\":\"identifier\",\"type\":\"string\",\"info\":\"a unique identifier for this piece of instruction\"},{\"name\":\"media_type\",\"type\":\"string\",\"info\":\"the type of media that has just played:\\n'audio' || 'animation' || 'other'\"},{\"name\":\"duration\",\"type\":\"int\",\"info\":\"the duration of the media playback in milliseconds\"},{\"name\":\"event_count\",\"type\":\"int\",\"info\":\"session event counter\"},{\"name\":\"event_code\",\"type\":\"int\",\"info\":\"event class identifier\"}]                                                                                                                 \n",
              "3  [{\"name\":\"game_time\",\"type\":\"int\",\"info\":\"millisecond count since start of game\"},{\"name\":\"round\",\"type\":\"int\",\"info\":\"number of the current round when the event takes place or 0 if no round\"},{\"name\":\"description\",\"type\":\"string\",\"info\":\"the text or description of the instruction\"},{\"name\":\"identifier\",\"type\":\"string\",\"info\":\"a unique identifier for this piece of instruction\"},{\"name\":\"media_type\",\"type\":\"string\",\"info\":\"the type of media that has just played:\\n'audio' || 'animation' || 'other'\"},{\"name\":\"duration\",\"type\":\"int\",\"info\":\"the duration of the media playback in milliseconds\"},{\"name\":\"event_count\",\"type\":\"int\",\"info\":\"session event counter\"},{\"name\":\"event_code\",\"type\":\"int\",\"info\":\"event class identifier\"}]                                                                                                                 \n",
              "4  [{\"name\":\"game_time\",\"type\":\"int\",\"info\":\"millisecond count since start of game\"},{\"name\":\"round\",\"type\":\"int\",\"info\":\"number of the current round when the event takes place or 0 if no round\"},{\"name\":\"description\",\"type\":\"string\",\"info\":\"the text or description of the instruction\"},{\"name\":\"identifier\",\"type\":\"string\",\"info\":\"a unique identifier for this piece of instruction\"},{\"name\":\"media_type\",\"type\":\"string\",\"info\":\"the type of media that has just played:\\n'audio' || 'animation' || 'other'\"},{\"name\":\"duration\",\"type\":\"int\",\"info\":\"the duration of the media playback in milliseconds\"},{\"name\":\"event_count\",\"type\":\"int\",\"info\":\"session event counter\"},{\"name\":\"event_code\",\"type\":\"int\",\"info\":\"event class identifier\"}]                                                                                                                 "
            ]
          },
          "metadata": {
            "tags": []
          },
          "execution_count": 14
        }
      ]
    },
    {
      "cell_type": "code",
      "metadata": {
        "id": "7Zkwx8o8PZ23",
        "colab_type": "code",
        "colab": {
          "base_uri": "https://localhost:8080/",
          "height": 323
        },
        "outputId": "5a9d7c33-ac14-4d02-ebec-2a9989f0c34e"
      },
      "source": [
        "print(f'Number of rows : {train.shape[0]}, Number of columns : {train.shape[1]}')\n",
        "print()\n",
        "train.describe()"
      ],
      "execution_count": 15,
      "outputs": [
        {
          "output_type": "stream",
          "text": [
            "Number of rows : 11341042, Number of columns : 17\n",
            "\n"
          ],
          "name": "stdout"
        },
        {
          "output_type": "execute_result",
          "data": {
            "text/html": [
              "<div>\n",
              "<style scoped>\n",
              "    .dataframe tbody tr th:only-of-type {\n",
              "        vertical-align: middle;\n",
              "    }\n",
              "\n",
              "    .dataframe tbody tr th {\n",
              "        vertical-align: top;\n",
              "    }\n",
              "\n",
              "    .dataframe thead th {\n",
              "        text-align: right;\n",
              "    }\n",
              "</style>\n",
              "<table border=\"1\" class=\"dataframe\">\n",
              "  <thead>\n",
              "    <tr style=\"text-align: right;\">\n",
              "      <th></th>\n",
              "      <th>event_count</th>\n",
              "      <th>event_code</th>\n",
              "      <th>game_time</th>\n",
              "      <th>month</th>\n",
              "      <th>hour</th>\n",
              "      <th>minute</th>\n",
              "      <th>day_of_week</th>\n",
              "      <th>game_time_seconds</th>\n",
              "      <th>game_time_minutes</th>\n",
              "    </tr>\n",
              "  </thead>\n",
              "  <tbody>\n",
              "    <tr>\n",
              "      <th>count</th>\n",
              "      <td>1.134104e+07</td>\n",
              "      <td>1.134104e+07</td>\n",
              "      <td>1.134104e+07</td>\n",
              "      <td>1.134104e+07</td>\n",
              "      <td>1.134104e+07</td>\n",
              "      <td>1.134104e+07</td>\n",
              "      <td>1.134104e+07</td>\n",
              "      <td>1.134104e+07</td>\n",
              "      <td>1.134104e+07</td>\n",
              "    </tr>\n",
              "    <tr>\n",
              "      <th>mean</th>\n",
              "      <td>1.056642e+02</td>\n",
              "      <td>3.513838e+03</td>\n",
              "      <td>1.976236e+05</td>\n",
              "      <td>8.728246e+00</td>\n",
              "      <td>1.477273e+01</td>\n",
              "      <td>2.954236e+01</td>\n",
              "      <td>3.007176e+00</td>\n",
              "      <td>1.976236e+02</td>\n",
              "      <td>3.293726e+00</td>\n",
              "    </tr>\n",
              "    <tr>\n",
              "      <th>std</th>\n",
              "      <td>1.483477e+02</td>\n",
              "      <td>6.816470e+02</td>\n",
              "      <td>1.803968e+06</td>\n",
              "      <td>8.426431e-01</td>\n",
              "      <td>6.779303e+00</td>\n",
              "      <td>1.733948e+01</td>\n",
              "      <td>1.978353e+00</td>\n",
              "      <td>1.803968e+03</td>\n",
              "      <td>3.006613e+01</td>\n",
              "    </tr>\n",
              "    <tr>\n",
              "      <th>min</th>\n",
              "      <td>1.000000e+00</td>\n",
              "      <td>2.000000e+03</td>\n",
              "      <td>0.000000e+00</td>\n",
              "      <td>7.000000e+00</td>\n",
              "      <td>0.000000e+00</td>\n",
              "      <td>0.000000e+00</td>\n",
              "      <td>0.000000e+00</td>\n",
              "      <td>0.000000e+00</td>\n",
              "      <td>0.000000e+00</td>\n",
              "    </tr>\n",
              "    <tr>\n",
              "      <th>25%</th>\n",
              "      <td>2.500000e+01</td>\n",
              "      <td>3.021000e+03</td>\n",
              "      <td>3.061800e+04</td>\n",
              "      <td>8.000000e+00</td>\n",
              "      <td>1.300000e+01</td>\n",
              "      <td>1.400000e+01</td>\n",
              "      <td>1.000000e+00</td>\n",
              "      <td>3.061800e+01</td>\n",
              "      <td>5.103000e-01</td>\n",
              "    </tr>\n",
              "    <tr>\n",
              "      <th>50%</th>\n",
              "      <td>6.100000e+01</td>\n",
              "      <td>4.020000e+03</td>\n",
              "      <td>7.276100e+04</td>\n",
              "      <td>9.000000e+00</td>\n",
              "      <td>1.600000e+01</td>\n",
              "      <td>2.900000e+01</td>\n",
              "      <td>3.000000e+00</td>\n",
              "      <td>7.276100e+01</td>\n",
              "      <td>1.212683e+00</td>\n",
              "    </tr>\n",
              "    <tr>\n",
              "      <th>75%</th>\n",
              "      <td>1.290000e+02</td>\n",
              "      <td>4.035000e+03</td>\n",
              "      <td>1.574460e+05</td>\n",
              "      <td>9.000000e+00</td>\n",
              "      <td>2.000000e+01</td>\n",
              "      <td>4.500000e+01</td>\n",
              "      <td>5.000000e+00</td>\n",
              "      <td>1.574460e+02</td>\n",
              "      <td>2.624100e+00</td>\n",
              "    </tr>\n",
              "    <tr>\n",
              "      <th>max</th>\n",
              "      <td>3.368000e+03</td>\n",
              "      <td>5.010000e+03</td>\n",
              "      <td>3.069102e+08</td>\n",
              "      <td>1.000000e+01</td>\n",
              "      <td>2.300000e+01</td>\n",
              "      <td>5.900000e+01</td>\n",
              "      <td>6.000000e+00</td>\n",
              "      <td>3.069102e+05</td>\n",
              "      <td>5.115171e+03</td>\n",
              "    </tr>\n",
              "  </tbody>\n",
              "</table>\n",
              "</div>"
            ],
            "text/plain": [
              "        event_count    event_code     game_time         month          hour  \\\n",
              "count  1.134104e+07  1.134104e+07  1.134104e+07  1.134104e+07  1.134104e+07   \n",
              "mean   1.056642e+02  3.513838e+03  1.976236e+05  8.728246e+00  1.477273e+01   \n",
              "std    1.483477e+02  6.816470e+02  1.803968e+06  8.426431e-01  6.779303e+00   \n",
              "min    1.000000e+00  2.000000e+03  0.000000e+00  7.000000e+00  0.000000e+00   \n",
              "25%    2.500000e+01  3.021000e+03  3.061800e+04  8.000000e+00  1.300000e+01   \n",
              "50%    6.100000e+01  4.020000e+03  7.276100e+04  9.000000e+00  1.600000e+01   \n",
              "75%    1.290000e+02  4.035000e+03  1.574460e+05  9.000000e+00  2.000000e+01   \n",
              "max    3.368000e+03  5.010000e+03  3.069102e+08  1.000000e+01  2.300000e+01   \n",
              "\n",
              "             minute   day_of_week  game_time_seconds  game_time_minutes  \n",
              "count  1.134104e+07  1.134104e+07  1.134104e+07       1.134104e+07       \n",
              "mean   2.954236e+01  3.007176e+00  1.976236e+02       3.293726e+00       \n",
              "std    1.733948e+01  1.978353e+00  1.803968e+03       3.006613e+01       \n",
              "min    0.000000e+00  0.000000e+00  0.000000e+00       0.000000e+00       \n",
              "25%    1.400000e+01  1.000000e+00  3.061800e+01       5.103000e-01       \n",
              "50%    2.900000e+01  3.000000e+00  7.276100e+01       1.212683e+00       \n",
              "75%    4.500000e+01  5.000000e+00  1.574460e+02       2.624100e+00       \n",
              "max    5.900000e+01  6.000000e+00  3.069102e+05       5.115171e+03       "
            ]
          },
          "metadata": {
            "tags": []
          },
          "execution_count": 15
        }
      ]
    },
    {
      "cell_type": "code",
      "metadata": {
        "id": "klU6Ilm-xPT5",
        "colab_type": "code",
        "colab": {
          "base_uri": "https://localhost:8080/",
          "height": 323
        },
        "outputId": "124af484-09a6-437e-f4a9-ee4ba5fe04a0"
      },
      "source": [
        "print(f'Number of rows : {train_labels.shape[0]}, Number of columns : {train_labels.shape[1]}')\n",
        "print()\n",
        "train_labels.describe()"
      ],
      "execution_count": 16,
      "outputs": [
        {
          "output_type": "stream",
          "text": [
            "Number of rows : 17690, Number of columns : 7\n",
            "\n"
          ],
          "name": "stdout"
        },
        {
          "output_type": "execute_result",
          "data": {
            "text/html": [
              "<div>\n",
              "<style scoped>\n",
              "    .dataframe tbody tr th:only-of-type {\n",
              "        vertical-align: middle;\n",
              "    }\n",
              "\n",
              "    .dataframe tbody tr th {\n",
              "        vertical-align: top;\n",
              "    }\n",
              "\n",
              "    .dataframe thead th {\n",
              "        text-align: right;\n",
              "    }\n",
              "</style>\n",
              "<table border=\"1\" class=\"dataframe\">\n",
              "  <thead>\n",
              "    <tr style=\"text-align: right;\">\n",
              "      <th></th>\n",
              "      <th>num_correct</th>\n",
              "      <th>num_incorrect</th>\n",
              "      <th>accuracy</th>\n",
              "      <th>accuracy_group</th>\n",
              "    </tr>\n",
              "  </thead>\n",
              "  <tbody>\n",
              "    <tr>\n",
              "      <th>count</th>\n",
              "      <td>17690.000000</td>\n",
              "      <td>17690.000000</td>\n",
              "      <td>17690.000000</td>\n",
              "      <td>17690.000000</td>\n",
              "    </tr>\n",
              "    <tr>\n",
              "      <th>mean</th>\n",
              "      <td>0.760938</td>\n",
              "      <td>1.587790</td>\n",
              "      <td>0.595810</td>\n",
              "      <td>1.885585</td>\n",
              "    </tr>\n",
              "    <tr>\n",
              "      <th>std</th>\n",
              "      <td>0.426523</td>\n",
              "      <td>3.058295</td>\n",
              "      <td>0.430559</td>\n",
              "      <td>1.256796</td>\n",
              "    </tr>\n",
              "    <tr>\n",
              "      <th>min</th>\n",
              "      <td>0.000000</td>\n",
              "      <td>0.000000</td>\n",
              "      <td>0.000000</td>\n",
              "      <td>0.000000</td>\n",
              "    </tr>\n",
              "    <tr>\n",
              "      <th>25%</th>\n",
              "      <td>1.000000</td>\n",
              "      <td>0.000000</td>\n",
              "      <td>0.111111</td>\n",
              "      <td>1.000000</td>\n",
              "    </tr>\n",
              "    <tr>\n",
              "      <th>50%</th>\n",
              "      <td>1.000000</td>\n",
              "      <td>0.500000</td>\n",
              "      <td>0.750000</td>\n",
              "      <td>2.500000</td>\n",
              "    </tr>\n",
              "    <tr>\n",
              "      <th>75%</th>\n",
              "      <td>1.000000</td>\n",
              "      <td>2.000000</td>\n",
              "      <td>1.000000</td>\n",
              "      <td>3.000000</td>\n",
              "    </tr>\n",
              "    <tr>\n",
              "      <th>max</th>\n",
              "      <td>1.000000</td>\n",
              "      <td>85.000000</td>\n",
              "      <td>1.000000</td>\n",
              "      <td>3.000000</td>\n",
              "    </tr>\n",
              "  </tbody>\n",
              "</table>\n",
              "</div>"
            ],
            "text/plain": [
              "        num_correct  num_incorrect      accuracy  accuracy_group\n",
              "count  17690.000000  17690.000000   17690.000000  17690.000000  \n",
              "mean   0.760938      1.587790       0.595810      1.885585      \n",
              "std    0.426523      3.058295       0.430559      1.256796      \n",
              "min    0.000000      0.000000       0.000000      0.000000      \n",
              "25%    1.000000      0.000000       0.111111      1.000000      \n",
              "50%    1.000000      0.500000       0.750000      2.500000      \n",
              "75%    1.000000      2.000000       1.000000      3.000000      \n",
              "max    1.000000      85.000000      1.000000      3.000000      "
            ]
          },
          "metadata": {
            "tags": []
          },
          "execution_count": 16
        }
      ]
    },
    {
      "cell_type": "markdown",
      "metadata": {
        "id": "dEYu4bEHwayl",
        "colab_type": "text"
      },
      "source": [
        "# Feature Engineering"
      ]
    },
    {
      "cell_type": "code",
      "metadata": {
        "id": "t4qDCsg_4eA-",
        "colab_type": "code",
        "colab": {}
      },
      "source": [
        "le = LabelEncoder()"
      ],
      "execution_count": 0,
      "outputs": []
    },
    {
      "cell_type": "code",
      "metadata": {
        "id": "dUnfOIJCbIZ3",
        "colab_type": "code",
        "colab": {}
      },
      "source": [
        "train = prepare_data(train)"
      ],
      "execution_count": 0,
      "outputs": []
    },
    {
      "cell_type": "code",
      "metadata": {
        "id": "PFEA619ch0dJ",
        "colab_type": "code",
        "colab": {}
      },
      "source": [
        "train['accuracy_group'] = None\n",
        "train.loc[(train['type'] == 'Assessment'), 'accuracy_group'] = 0\n",
        "train.loc[(train['accuracy_calculated'] == 1) & (train['type'] == 'Assessment'), 'accuracy_group'] = 3\n",
        "train.loc[(train['accuracy_calculated'] == 0.5) & (train['type'] == 'Assessment'), 'accuracy_group'] = 2\n",
        "train.loc[(train['accuracy_calculated'] < 0.5) & (train['accuracy_calculated'] > 0) & (train['total_attempts'] > 0) & (train['type'] == 'Assessment'), 'accuracy_group'] = 1"
      ],
      "execution_count": 0,
      "outputs": []
    },
    {
      "cell_type": "code",
      "metadata": {
        "id": "KAupJBtGhxQE",
        "colab_type": "code",
        "colab": {}
      },
      "source": [
        "test = prepare_data(test)"
      ],
      "execution_count": 0,
      "outputs": []
    },
    {
      "cell_type": "code",
      "metadata": {
        "id": "W5ca8Lr3lb0v",
        "colab_type": "code",
        "colab": {
          "base_uri": "https://localhost:8080/",
          "height": 34
        },
        "outputId": "42ef4c17-1cf9-4643-e2dd-d124506d4497"
      },
      "source": [
        "for df in tqdm_notebook([train,test]):\n",
        "  for cols in ['game_session','timestamp','event_data']:\n",
        "    df.pop(cols)"
      ],
      "execution_count": 13,
      "outputs": [
        {
          "output_type": "display_data",
          "data": {
            "application/vnd.jupyter.widget-view+json": {
              "model_id": "2c3dea453f4b438ebb295ab03cdbb9bd",
              "version_minor": 0,
              "version_major": 2
            },
            "text/plain": [
              "HBox(children=(IntProgress(value=0, max=2), HTML(value='')))"
            ]
          },
          "metadata": {
            "tags": []
          }
        },
        {
          "output_type": "stream",
          "text": [
            "\n"
          ],
          "name": "stdout"
        }
      ]
    },
    {
      "cell_type": "code",
      "metadata": {
        "id": "P3iUysooluMz",
        "colab_type": "code",
        "colab": {
          "base_uri": "https://localhost:8080/",
          "height": 34
        },
        "outputId": "c99dc4c2-d4f7-47b8-a422-5a832e4bc105"
      },
      "source": [
        "for df in tqdm_notebook([train,test]):\n",
        "  for cols in ['title','type','world']:\n",
        "    df[cols] = le.fit_transform(df[cols])"
      ],
      "execution_count": 14,
      "outputs": [
        {
          "output_type": "display_data",
          "data": {
            "application/vnd.jupyter.widget-view+json": {
              "model_id": "fd9c684dd5d549b39bfa5871e78a5e6e",
              "version_minor": 0,
              "version_major": 2
            },
            "text/plain": [
              "HBox(children=(IntProgress(value=0, max=2), HTML(value='')))"
            ]
          },
          "metadata": {
            "tags": []
          }
        },
        {
          "output_type": "stream",
          "text": [
            "\n"
          ],
          "name": "stdout"
        }
      ]
    },
    {
      "cell_type": "code",
      "metadata": {
        "id": "buxt6pxwlDVX",
        "colab_type": "code",
        "colab": {
          "base_uri": "https://localhost:8080/",
          "height": 218
        },
        "outputId": "cfd8a14d-eb48-4907-8df6-57f270555cb5"
      },
      "source": [
        "train.head()"
      ],
      "execution_count": 15,
      "outputs": [
        {
          "output_type": "execute_result",
          "data": {
            "text/html": [
              "<div>\n",
              "<style scoped>\n",
              "    .dataframe tbody tr th:only-of-type {\n",
              "        vertical-align: middle;\n",
              "    }\n",
              "\n",
              "    .dataframe tbody tr th {\n",
              "        vertical-align: top;\n",
              "    }\n",
              "\n",
              "    .dataframe thead th {\n",
              "        text-align: right;\n",
              "    }\n",
              "</style>\n",
              "<table border=\"1\" class=\"dataframe\">\n",
              "  <thead>\n",
              "    <tr style=\"text-align: right;\">\n",
              "      <th></th>\n",
              "      <th>event_id</th>\n",
              "      <th>installation_id</th>\n",
              "      <th>event_count</th>\n",
              "      <th>event_code</th>\n",
              "      <th>game_time</th>\n",
              "      <th>title</th>\n",
              "      <th>type</th>\n",
              "      <th>world</th>\n",
              "      <th>attempt</th>\n",
              "      <th>correct</th>\n",
              "      <th>success_attempt</th>\n",
              "      <th>unsuccess_attempt</th>\n",
              "      <th>accuracy_calculated</th>\n",
              "      <th>total_attempts</th>\n",
              "      <th>accuracy_group</th>\n",
              "    </tr>\n",
              "  </thead>\n",
              "  <tbody>\n",
              "    <tr>\n",
              "      <th>0</th>\n",
              "      <td>27253bdc</td>\n",
              "      <td>0001e90f</td>\n",
              "      <td>1</td>\n",
              "      <td>2000</td>\n",
              "      <td>0</td>\n",
              "      <td>43</td>\n",
              "      <td>2</td>\n",
              "      <td>2</td>\n",
              "      <td>0</td>\n",
              "      <td>None</td>\n",
              "      <td>NaN</td>\n",
              "      <td>0</td>\n",
              "      <td>NaN</td>\n",
              "      <td>0</td>\n",
              "      <td>None</td>\n",
              "    </tr>\n",
              "    <tr>\n",
              "      <th>1</th>\n",
              "      <td>27253bdc</td>\n",
              "      <td>0001e90f</td>\n",
              "      <td>1</td>\n",
              "      <td>2000</td>\n",
              "      <td>0</td>\n",
              "      <td>28</td>\n",
              "      <td>2</td>\n",
              "      <td>1</td>\n",
              "      <td>0</td>\n",
              "      <td>None</td>\n",
              "      <td>NaN</td>\n",
              "      <td>0</td>\n",
              "      <td>NaN</td>\n",
              "      <td>0</td>\n",
              "      <td>None</td>\n",
              "    </tr>\n",
              "    <tr>\n",
              "      <th>2</th>\n",
              "      <td>77261ab5</td>\n",
              "      <td>0001e90f</td>\n",
              "      <td>1</td>\n",
              "      <td>2000</td>\n",
              "      <td>0</td>\n",
              "      <td>35</td>\n",
              "      <td>0</td>\n",
              "      <td>1</td>\n",
              "      <td>0</td>\n",
              "      <td>None</td>\n",
              "      <td>NaN</td>\n",
              "      <td>0</td>\n",
              "      <td>NaN</td>\n",
              "      <td>0</td>\n",
              "      <td>None</td>\n",
              "    </tr>\n",
              "    <tr>\n",
              "      <th>3</th>\n",
              "      <td>b2dba42b</td>\n",
              "      <td>0001e90f</td>\n",
              "      <td>2</td>\n",
              "      <td>3010</td>\n",
              "      <td>53</td>\n",
              "      <td>35</td>\n",
              "      <td>0</td>\n",
              "      <td>1</td>\n",
              "      <td>0</td>\n",
              "      <td>None</td>\n",
              "      <td>NaN</td>\n",
              "      <td>0</td>\n",
              "      <td>NaN</td>\n",
              "      <td>0</td>\n",
              "      <td>None</td>\n",
              "    </tr>\n",
              "    <tr>\n",
              "      <th>4</th>\n",
              "      <td>1bb5fbdb</td>\n",
              "      <td>0001e90f</td>\n",
              "      <td>3</td>\n",
              "      <td>3110</td>\n",
              "      <td>6972</td>\n",
              "      <td>35</td>\n",
              "      <td>0</td>\n",
              "      <td>1</td>\n",
              "      <td>0</td>\n",
              "      <td>None</td>\n",
              "      <td>NaN</td>\n",
              "      <td>0</td>\n",
              "      <td>NaN</td>\n",
              "      <td>0</td>\n",
              "      <td>None</td>\n",
              "    </tr>\n",
              "  </tbody>\n",
              "</table>\n",
              "</div>"
            ],
            "text/plain": [
              "   event_id installation_id  event_count  event_code  game_time  title  type  \\\n",
              "0  27253bdc  0001e90f        1            2000        0          43     2      \n",
              "1  27253bdc  0001e90f        1            2000        0          28     2      \n",
              "2  77261ab5  0001e90f        1            2000        0          35     0      \n",
              "3  b2dba42b  0001e90f        2            3010        53         35     0      \n",
              "4  1bb5fbdb  0001e90f        3            3110        6972       35     0      \n",
              "\n",
              "   world  attempt correct success_attempt  unsuccess_attempt  \\\n",
              "0  2      0        None    NaN             0                   \n",
              "1  1      0        None    NaN             0                   \n",
              "2  1      0        None    NaN             0                   \n",
              "3  1      0        None    NaN             0                   \n",
              "4  1      0        None    NaN             0                   \n",
              "\n",
              "   accuracy_calculated  total_attempts accuracy_group  \n",
              "0 NaN                   0               None           \n",
              "1 NaN                   0               None           \n",
              "2 NaN                   0               None           \n",
              "3 NaN                   0               None           \n",
              "4 NaN                   0               None           "
            ]
          },
          "metadata": {
            "tags": []
          },
          "execution_count": 15
        }
      ]
    },
    {
      "cell_type": "code",
      "metadata": {
        "id": "gcQx0321lMDh",
        "colab_type": "code",
        "colab": {}
      },
      "source": [
        "stats = featexp.get_trend_stats(data = train, target_col = 'accuracy_group')"
      ],
      "execution_count": 0,
      "outputs": []
    },
    {
      "cell_type": "code",
      "metadata": {
        "id": "c2o81ehlmZQF",
        "colab_type": "code",
        "colab": {}
      },
      "source": [
        "stats"
      ],
      "execution_count": 0,
      "outputs": []
    }
  ]
}