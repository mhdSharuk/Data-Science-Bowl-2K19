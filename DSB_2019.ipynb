{
  "nbformat": 4,
  "nbformat_minor": 0,
  "metadata": {
    "colab": {
      "name": "DSB_2019",
      "provenance": [],
      "collapsed_sections": [],
      "include_colab_link": true
    },
    "kernelspec": {
      "name": "python3",
      "display_name": "Python 3"
    },
    "accelerator": "TPU"
  },
  "cells": [
    {
      "cell_type": "markdown",
      "metadata": {
        "id": "view-in-github",
        "colab_type": "text"
      },
      "source": [
        "<a href=\"https://colab.research.google.com/github/mhdSharuk/Data-Science-Bowl-2K19/blob/master/DSB_2019.ipynb\" target=\"_parent\"><img src=\"https://colab.research.google.com/assets/colab-badge.svg\" alt=\"Open In Colab\"/></a>"
      ]
    },
    {
      "cell_type": "markdown",
      "metadata": {
        "id": "K9aQumlxWtNk",
        "colab_type": "text"
      },
      "source": [
        "# Notes"
      ]
    },
    {
      "cell_type": "markdown",
      "metadata": {
        "id": "qrTjL-Z6Vajd",
        "colab_type": "text"
      },
      "source": [
        "**Groupby data to get the number of attempts each installation_id played**\n",
        "\n",
        "\n",
        "*   train_data.groupby(['game_session','installation_id'],as_index =False)['title'].agg({'value_counts'}).rename(columns={'value_counts':'Total_no'}).head()\n",
        "\n",
        "*   test_data.groupby(['game_session','installation_id'])['title'].agg({'value_counts'}).rename(columns={'value_counts':'Total_no'}).index.get_level_values(3)\n",
        "\n"
      ]
    },
    {
      "cell_type": "markdown",
      "metadata": {
        "id": "dpc4JlvpWwzU",
        "colab_type": "text"
      },
      "source": [
        "# Mounting Google Drive"
      ]
    },
    {
      "cell_type": "code",
      "metadata": {
        "id": "UEDPC7NfiRt8",
        "colab_type": "code",
        "outputId": "37730ffe-617e-41dc-db0d-310694d2307f",
        "colab": {
          "base_uri": "https://localhost:8080/",
          "height": 124
        }
      },
      "source": [
        "from google.colab import drive\n",
        "drive.mount('/content/drive')"
      ],
      "execution_count": 1,
      "outputs": [
        {
          "output_type": "stream",
          "text": [
            "Go to this URL in a browser: https://accounts.google.com/o/oauth2/auth?client_id=947318989803-6bn6qk8qdgf4n4g3pfee6491hc0brc4i.apps.googleusercontent.com&redirect_uri=urn%3Aietf%3Awg%3Aoauth%3A2.0%3Aoob&scope=email%20https%3A%2F%2Fwww.googleapis.com%2Fauth%2Fdocs.test%20https%3A%2F%2Fwww.googleapis.com%2Fauth%2Fdrive%20https%3A%2F%2Fwww.googleapis.com%2Fauth%2Fdrive.photos.readonly%20https%3A%2F%2Fwww.googleapis.com%2Fauth%2Fpeopleapi.readonly&response_type=code\n",
            "\n",
            "Enter your authorization code:\n",
            "··········\n",
            "Mounted at /content/drive\n"
          ],
          "name": "stdout"
        }
      ]
    },
    {
      "cell_type": "markdown",
      "metadata": {
        "id": "ipu8YE3pW2Jg",
        "colab_type": "text"
      },
      "source": [
        "# Importing Required Modules"
      ]
    },
    {
      "cell_type": "code",
      "metadata": {
        "id": "iRb74YrCNcB7",
        "colab_type": "code",
        "colab": {
          "base_uri": "https://localhost:8080/",
          "height": 365
        },
        "outputId": "bcf8e271-5d99-4dfa-8296-43379b376579"
      },
      "source": [
        "!pip install catboost"
      ],
      "execution_count": 2,
      "outputs": [
        {
          "output_type": "stream",
          "text": [
            "Collecting catboost\n",
            "\u001b[?25l  Downloading https://files.pythonhosted.org/packages/ad/30/a6178a9b6b5a9d9f91f6fee423e68d0545330f1c690fe419e59a3da6a38a/catboost-0.18.1-cp36-none-manylinux1_x86_64.whl (62.9MB)\n",
            "\u001b[K     |████████████████████████████████| 62.9MB 38kB/s \n",
            "\u001b[?25hRequirement already satisfied: numpy>=1.16.0 in /usr/local/lib/python3.6/dist-packages (from catboost) (1.17.3)\n",
            "Requirement already satisfied: pandas>=0.24.0 in /usr/local/lib/python3.6/dist-packages (from catboost) (0.25.2)\n",
            "Requirement already satisfied: matplotlib in /usr/local/lib/python3.6/dist-packages (from catboost) (3.1.1)\n",
            "Requirement already satisfied: graphviz in /usr/local/lib/python3.6/dist-packages (from catboost) (0.10.1)\n",
            "Requirement already satisfied: scipy in /usr/local/lib/python3.6/dist-packages (from catboost) (1.3.1)\n",
            "Requirement already satisfied: six in /usr/local/lib/python3.6/dist-packages (from catboost) (1.12.0)\n",
            "Requirement already satisfied: plotly in /usr/local/lib/python3.6/dist-packages (from catboost) (4.1.1)\n",
            "Requirement already satisfied: python-dateutil>=2.6.1 in /usr/local/lib/python3.6/dist-packages (from pandas>=0.24.0->catboost) (2.6.1)\n",
            "Requirement already satisfied: pytz>=2017.2 in /usr/local/lib/python3.6/dist-packages (from pandas>=0.24.0->catboost) (2018.9)\n",
            "Requirement already satisfied: kiwisolver>=1.0.1 in /usr/local/lib/python3.6/dist-packages (from matplotlib->catboost) (1.1.0)\n",
            "Requirement already satisfied: cycler>=0.10 in /usr/local/lib/python3.6/dist-packages (from matplotlib->catboost) (0.10.0)\n",
            "Requirement already satisfied: pyparsing!=2.0.4,!=2.1.2,!=2.1.6,>=2.0.1 in /usr/local/lib/python3.6/dist-packages (from matplotlib->catboost) (2.4.2)\n",
            "Requirement already satisfied: retrying>=1.3.3 in /usr/local/lib/python3.6/dist-packages (from plotly->catboost) (1.3.3)\n",
            "Requirement already satisfied: setuptools in /usr/local/lib/python3.6/dist-packages (from kiwisolver>=1.0.1->matplotlib->catboost) (41.4.0)\n",
            "Installing collected packages: catboost\n",
            "Successfully installed catboost-0.18.1\n"
          ],
          "name": "stdout"
        }
      ]
    },
    {
      "cell_type": "code",
      "metadata": {
        "id": "98eG8JrsgzIs",
        "colab_type": "code",
        "colab": {}
      },
      "source": [
        "import pandas as pd\n",
        "pd.set_option('display.max_columns', 10000)\n",
        "pd.set_option('display.max_rows', 28445)\n",
        "import numpy as np\n",
        "import os\n",
        "import gc\n",
        "import matplotlib.pyplot as plt\n",
        "from tqdm import tqdm_notebook\n",
        "import json\n",
        "import pprint\n",
        "import seaborn as sns\n",
        "from catboost import CatBoostClassifier,CatBoostRegressor,Pool,cv\n",
        "import xgboost as xgb\n",
        "import lightgbm as lgb"
      ],
      "execution_count": 0,
      "outputs": []
    },
    {
      "cell_type": "markdown",
      "metadata": {
        "id": "y_onH7wrW8A_",
        "colab_type": "text"
      },
      "source": [
        "# Helper Functions"
      ]
    },
    {
      "cell_type": "code",
      "metadata": {
        "id": "tG_mhI06hCeZ",
        "colab_type": "code",
        "colab": {}
      },
      "source": [
        "def read_file():\n",
        "  specs = pd.read_csv('/content/drive/My Drive/specs.csv')\n",
        "  train_labels = pd.read_csv('./drive/My Drive/train_labels.csv.zip')\n",
        "  train = pd.read_csv('./drive/My Drive/train.csv.zip')\n",
        "  test = pd.read_csv('./drive/My Drive/test.csv.zip')\n",
        "  sub = pd.read_csv('./drive/My Drive/sample_submission.csv')\n",
        "  \n",
        "  return specs,train_labels,train,test,sub"
      ],
      "execution_count": 0,
      "outputs": []
    },
    {
      "cell_type": "code",
      "metadata": {
        "id": "VmBXHXT5OwPL",
        "colab_type": "code",
        "colab": {}
      },
      "source": [
        "specs,train_labels,train,test,sub = read_file()"
      ],
      "execution_count": 0,
      "outputs": []
    },
    {
      "cell_type": "code",
      "metadata": {
        "id": "xVoEwqqFVhj3",
        "colab_type": "code",
        "colab": {}
      },
      "source": [
        "def get_datetime(df):\n",
        "  df['timestamp'] = pd.to_datetime(df['timestamp'])\n",
        "  df['date'] = df['timestamp'].dt.date\n",
        "  df['month'] = df['timestamp'].dt.month\n",
        "  df['hour'] = df['timestamp'].dt.hour\n",
        "  df['day_of_week'] = df['timestamp'].dt.dayofweek\n",
        "  \n",
        "for c in [train,test]:\n",
        "  get_datetime(c)\n",
        "  c.pop('timestamp')\n",
        "  \n"
      ],
      "execution_count": 0,
      "outputs": []
    },
    {
      "cell_type": "markdown",
      "metadata": {
        "id": "WABCkRtmXB9h",
        "colab_type": "text"
      },
      "source": [
        "# Exploratatry Data Analysis"
      ]
    },
    {
      "cell_type": "code",
      "metadata": {
        "id": "k-N4Sj5jhcOj",
        "colab_type": "code",
        "outputId": "b27612bc-6ab2-4960-ddb5-36736d8d42b7",
        "colab": {
          "base_uri": "https://localhost:8080/",
          "height": 198
        }
      },
      "source": [
        "train_labels.head()"
      ],
      "execution_count": 35,
      "outputs": [
        {
          "output_type": "execute_result",
          "data": {
            "text/html": [
              "<div>\n",
              "<style scoped>\n",
              "    .dataframe tbody tr th:only-of-type {\n",
              "        vertical-align: middle;\n",
              "    }\n",
              "\n",
              "    .dataframe tbody tr th {\n",
              "        vertical-align: top;\n",
              "    }\n",
              "\n",
              "    .dataframe thead th {\n",
              "        text-align: right;\n",
              "    }\n",
              "</style>\n",
              "<table border=\"1\" class=\"dataframe\">\n",
              "  <thead>\n",
              "    <tr style=\"text-align: right;\">\n",
              "      <th></th>\n",
              "      <th>game_session</th>\n",
              "      <th>installation_id</th>\n",
              "      <th>title</th>\n",
              "      <th>num_correct</th>\n",
              "      <th>num_incorrect</th>\n",
              "      <th>accuracy</th>\n",
              "      <th>accuracy_group</th>\n",
              "    </tr>\n",
              "  </thead>\n",
              "  <tbody>\n",
              "    <tr>\n",
              "      <th>0</th>\n",
              "      <td>6bdf9623adc94d89</td>\n",
              "      <td>0006a69f</td>\n",
              "      <td>Mushroom Sorter (Assessment)</td>\n",
              "      <td>1</td>\n",
              "      <td>0</td>\n",
              "      <td>1.0</td>\n",
              "      <td>3</td>\n",
              "    </tr>\n",
              "    <tr>\n",
              "      <th>1</th>\n",
              "      <td>77b8ee947eb84b4e</td>\n",
              "      <td>0006a69f</td>\n",
              "      <td>Bird Measurer (Assessment)</td>\n",
              "      <td>0</td>\n",
              "      <td>11</td>\n",
              "      <td>0.0</td>\n",
              "      <td>0</td>\n",
              "    </tr>\n",
              "    <tr>\n",
              "      <th>2</th>\n",
              "      <td>901acc108f55a5a1</td>\n",
              "      <td>0006a69f</td>\n",
              "      <td>Mushroom Sorter (Assessment)</td>\n",
              "      <td>1</td>\n",
              "      <td>0</td>\n",
              "      <td>1.0</td>\n",
              "      <td>3</td>\n",
              "    </tr>\n",
              "    <tr>\n",
              "      <th>3</th>\n",
              "      <td>9501794defd84e4d</td>\n",
              "      <td>0006a69f</td>\n",
              "      <td>Mushroom Sorter (Assessment)</td>\n",
              "      <td>1</td>\n",
              "      <td>1</td>\n",
              "      <td>0.5</td>\n",
              "      <td>2</td>\n",
              "    </tr>\n",
              "    <tr>\n",
              "      <th>4</th>\n",
              "      <td>a9ef3ecb3d1acc6a</td>\n",
              "      <td>0006a69f</td>\n",
              "      <td>Bird Measurer (Assessment)</td>\n",
              "      <td>1</td>\n",
              "      <td>0</td>\n",
              "      <td>1.0</td>\n",
              "      <td>3</td>\n",
              "    </tr>\n",
              "  </tbody>\n",
              "</table>\n",
              "</div>"
            ],
            "text/plain": [
              "       game_session installation_id                         title  \\\n",
              "0  6bdf9623adc94d89        0006a69f  Mushroom Sorter (Assessment)   \n",
              "1  77b8ee947eb84b4e        0006a69f    Bird Measurer (Assessment)   \n",
              "2  901acc108f55a5a1        0006a69f  Mushroom Sorter (Assessment)   \n",
              "3  9501794defd84e4d        0006a69f  Mushroom Sorter (Assessment)   \n",
              "4  a9ef3ecb3d1acc6a        0006a69f    Bird Measurer (Assessment)   \n",
              "\n",
              "   num_correct  num_incorrect  accuracy  accuracy_group  \n",
              "0            1              0       1.0               3  \n",
              "1            0             11       0.0               0  \n",
              "2            1              0       1.0               3  \n",
              "3            1              1       0.5               2  \n",
              "4            1              0       1.0               3  "
            ]
          },
          "metadata": {
            "tags": []
          },
          "execution_count": 35
        }
      ]
    },
    {
      "cell_type": "code",
      "metadata": {
        "id": "7Zkwx8o8PZ23",
        "colab_type": "code",
        "colab": {
          "base_uri": "https://localhost:8080/",
          "height": 391
        },
        "outputId": "a08a0888-9e01-4e8e-a43a-12d742678dcc"
      },
      "source": [
        "train.head()"
      ],
      "execution_count": 37,
      "outputs": [
        {
          "output_type": "execute_result",
          "data": {
            "text/html": [
              "<div>\n",
              "<style scoped>\n",
              "    .dataframe tbody tr th:only-of-type {\n",
              "        vertical-align: middle;\n",
              "    }\n",
              "\n",
              "    .dataframe tbody tr th {\n",
              "        vertical-align: top;\n",
              "    }\n",
              "\n",
              "    .dataframe thead th {\n",
              "        text-align: right;\n",
              "    }\n",
              "</style>\n",
              "<table border=\"1\" class=\"dataframe\">\n",
              "  <thead>\n",
              "    <tr style=\"text-align: right;\">\n",
              "      <th></th>\n",
              "      <th>event_id</th>\n",
              "      <th>game_session</th>\n",
              "      <th>event_data</th>\n",
              "      <th>installation_id</th>\n",
              "      <th>event_count</th>\n",
              "      <th>event_code</th>\n",
              "      <th>game_time</th>\n",
              "      <th>title</th>\n",
              "      <th>type</th>\n",
              "      <th>world</th>\n",
              "      <th>date</th>\n",
              "      <th>month</th>\n",
              "      <th>year</th>\n",
              "      <th>day_of_week</th>\n",
              "      <th>hour</th>\n",
              "    </tr>\n",
              "  </thead>\n",
              "  <tbody>\n",
              "    <tr>\n",
              "      <th>0</th>\n",
              "      <td>27253bdc</td>\n",
              "      <td>45bb1e1b6b50c07b</td>\n",
              "      <td>{\"event_code\": 2000, \"event_count\": 1}</td>\n",
              "      <td>0001e90f</td>\n",
              "      <td>1</td>\n",
              "      <td>2000</td>\n",
              "      <td>0</td>\n",
              "      <td>Welcome to Lost Lagoon!</td>\n",
              "      <td>Clip</td>\n",
              "      <td>NONE</td>\n",
              "      <td>2019-09-06</td>\n",
              "      <td>9</td>\n",
              "      <td>2019</td>\n",
              "      <td>4</td>\n",
              "      <td>17</td>\n",
              "    </tr>\n",
              "    <tr>\n",
              "      <th>1</th>\n",
              "      <td>27253bdc</td>\n",
              "      <td>17eeb7f223665f53</td>\n",
              "      <td>{\"event_code\": 2000, \"event_count\": 1}</td>\n",
              "      <td>0001e90f</td>\n",
              "      <td>1</td>\n",
              "      <td>2000</td>\n",
              "      <td>0</td>\n",
              "      <td>Magma Peak - Level 1</td>\n",
              "      <td>Clip</td>\n",
              "      <td>MAGMAPEAK</td>\n",
              "      <td>2019-09-06</td>\n",
              "      <td>9</td>\n",
              "      <td>2019</td>\n",
              "      <td>4</td>\n",
              "      <td>17</td>\n",
              "    </tr>\n",
              "    <tr>\n",
              "      <th>2</th>\n",
              "      <td>77261ab5</td>\n",
              "      <td>0848ef14a8dc6892</td>\n",
              "      <td>{\"version\":\"1.0\",\"event_count\":1,\"game_time\":0...</td>\n",
              "      <td>0001e90f</td>\n",
              "      <td>1</td>\n",
              "      <td>2000</td>\n",
              "      <td>0</td>\n",
              "      <td>Sandcastle Builder (Activity)</td>\n",
              "      <td>Activity</td>\n",
              "      <td>MAGMAPEAK</td>\n",
              "      <td>2019-09-06</td>\n",
              "      <td>9</td>\n",
              "      <td>2019</td>\n",
              "      <td>4</td>\n",
              "      <td>17</td>\n",
              "    </tr>\n",
              "    <tr>\n",
              "      <th>3</th>\n",
              "      <td>b2dba42b</td>\n",
              "      <td>0848ef14a8dc6892</td>\n",
              "      <td>{\"description\":\"Let's build a sandcastle! Firs...</td>\n",
              "      <td>0001e90f</td>\n",
              "      <td>2</td>\n",
              "      <td>3010</td>\n",
              "      <td>53</td>\n",
              "      <td>Sandcastle Builder (Activity)</td>\n",
              "      <td>Activity</td>\n",
              "      <td>MAGMAPEAK</td>\n",
              "      <td>2019-09-06</td>\n",
              "      <td>9</td>\n",
              "      <td>2019</td>\n",
              "      <td>4</td>\n",
              "      <td>17</td>\n",
              "    </tr>\n",
              "    <tr>\n",
              "      <th>4</th>\n",
              "      <td>1bb5fbdb</td>\n",
              "      <td>0848ef14a8dc6892</td>\n",
              "      <td>{\"description\":\"Let's build a sandcastle! Firs...</td>\n",
              "      <td>0001e90f</td>\n",
              "      <td>3</td>\n",
              "      <td>3110</td>\n",
              "      <td>6972</td>\n",
              "      <td>Sandcastle Builder (Activity)</td>\n",
              "      <td>Activity</td>\n",
              "      <td>MAGMAPEAK</td>\n",
              "      <td>2019-09-06</td>\n",
              "      <td>9</td>\n",
              "      <td>2019</td>\n",
              "      <td>4</td>\n",
              "      <td>17</td>\n",
              "    </tr>\n",
              "  </tbody>\n",
              "</table>\n",
              "</div>"
            ],
            "text/plain": [
              "   event_id      game_session  \\\n",
              "0  27253bdc  45bb1e1b6b50c07b   \n",
              "1  27253bdc  17eeb7f223665f53   \n",
              "2  77261ab5  0848ef14a8dc6892   \n",
              "3  b2dba42b  0848ef14a8dc6892   \n",
              "4  1bb5fbdb  0848ef14a8dc6892   \n",
              "\n",
              "                                          event_data installation_id  \\\n",
              "0             {\"event_code\": 2000, \"event_count\": 1}        0001e90f   \n",
              "1             {\"event_code\": 2000, \"event_count\": 1}        0001e90f   \n",
              "2  {\"version\":\"1.0\",\"event_count\":1,\"game_time\":0...        0001e90f   \n",
              "3  {\"description\":\"Let's build a sandcastle! Firs...        0001e90f   \n",
              "4  {\"description\":\"Let's build a sandcastle! Firs...        0001e90f   \n",
              "\n",
              "   event_count  event_code  game_time                          title  \\\n",
              "0            1        2000          0        Welcome to Lost Lagoon!   \n",
              "1            1        2000          0           Magma Peak - Level 1   \n",
              "2            1        2000          0  Sandcastle Builder (Activity)   \n",
              "3            2        3010         53  Sandcastle Builder (Activity)   \n",
              "4            3        3110       6972  Sandcastle Builder (Activity)   \n",
              "\n",
              "       type      world        date  month  year  day_of_week  hour  \n",
              "0      Clip       NONE  2019-09-06      9  2019            4    17  \n",
              "1      Clip  MAGMAPEAK  2019-09-06      9  2019            4    17  \n",
              "2  Activity  MAGMAPEAK  2019-09-06      9  2019            4    17  \n",
              "3  Activity  MAGMAPEAK  2019-09-06      9  2019            4    17  \n",
              "4  Activity  MAGMAPEAK  2019-09-06      9  2019            4    17  "
            ]
          },
          "metadata": {
            "tags": []
          },
          "execution_count": 37
        }
      ]
    },
    {
      "cell_type": "code",
      "metadata": {
        "id": "fpjaQtToPzDE",
        "colab_type": "code",
        "colab": {
          "base_uri": "https://localhost:8080/",
          "height": 374
        },
        "outputId": "0e747a74-3d67-44d8-ba32-95b3205b7978"
      },
      "source": [
        "test.head()"
      ],
      "execution_count": 38,
      "outputs": [
        {
          "output_type": "execute_result",
          "data": {
            "text/html": [
              "<div>\n",
              "<style scoped>\n",
              "    .dataframe tbody tr th:only-of-type {\n",
              "        vertical-align: middle;\n",
              "    }\n",
              "\n",
              "    .dataframe tbody tr th {\n",
              "        vertical-align: top;\n",
              "    }\n",
              "\n",
              "    .dataframe thead th {\n",
              "        text-align: right;\n",
              "    }\n",
              "</style>\n",
              "<table border=\"1\" class=\"dataframe\">\n",
              "  <thead>\n",
              "    <tr style=\"text-align: right;\">\n",
              "      <th></th>\n",
              "      <th>event_id</th>\n",
              "      <th>game_session</th>\n",
              "      <th>event_data</th>\n",
              "      <th>installation_id</th>\n",
              "      <th>event_count</th>\n",
              "      <th>event_code</th>\n",
              "      <th>game_time</th>\n",
              "      <th>title</th>\n",
              "      <th>type</th>\n",
              "      <th>world</th>\n",
              "      <th>date</th>\n",
              "      <th>month</th>\n",
              "      <th>year</th>\n",
              "      <th>day_of_week</th>\n",
              "      <th>hour</th>\n",
              "    </tr>\n",
              "  </thead>\n",
              "  <tbody>\n",
              "    <tr>\n",
              "      <th>0</th>\n",
              "      <td>27253bdc</td>\n",
              "      <td>0ea9ecc81a565215</td>\n",
              "      <td>{\"event_code\": 2000, \"event_count\": 1}</td>\n",
              "      <td>00abaee7</td>\n",
              "      <td>1</td>\n",
              "      <td>2000</td>\n",
              "      <td>0</td>\n",
              "      <td>Welcome to Lost Lagoon!</td>\n",
              "      <td>Clip</td>\n",
              "      <td>NONE</td>\n",
              "      <td>2019-09-10</td>\n",
              "      <td>9</td>\n",
              "      <td>2019</td>\n",
              "      <td>1</td>\n",
              "      <td>16</td>\n",
              "    </tr>\n",
              "    <tr>\n",
              "      <th>1</th>\n",
              "      <td>27253bdc</td>\n",
              "      <td>c1ea43d8b8261d27</td>\n",
              "      <td>{\"event_code\": 2000, \"event_count\": 1}</td>\n",
              "      <td>00abaee7</td>\n",
              "      <td>1</td>\n",
              "      <td>2000</td>\n",
              "      <td>0</td>\n",
              "      <td>Magma Peak - Level 1</td>\n",
              "      <td>Clip</td>\n",
              "      <td>MAGMAPEAK</td>\n",
              "      <td>2019-09-10</td>\n",
              "      <td>9</td>\n",
              "      <td>2019</td>\n",
              "      <td>1</td>\n",
              "      <td>16</td>\n",
              "    </tr>\n",
              "    <tr>\n",
              "      <th>2</th>\n",
              "      <td>27253bdc</td>\n",
              "      <td>7ed86c6b72e725e2</td>\n",
              "      <td>{\"event_code\": 2000, \"event_count\": 1}</td>\n",
              "      <td>00abaee7</td>\n",
              "      <td>1</td>\n",
              "      <td>2000</td>\n",
              "      <td>0</td>\n",
              "      <td>Magma Peak - Level 2</td>\n",
              "      <td>Clip</td>\n",
              "      <td>MAGMAPEAK</td>\n",
              "      <td>2019-09-10</td>\n",
              "      <td>9</td>\n",
              "      <td>2019</td>\n",
              "      <td>1</td>\n",
              "      <td>16</td>\n",
              "    </tr>\n",
              "    <tr>\n",
              "      <th>3</th>\n",
              "      <td>27253bdc</td>\n",
              "      <td>7e516ace50e7fe67</td>\n",
              "      <td>{\"event_code\": 2000, \"event_count\": 1}</td>\n",
              "      <td>00abaee7</td>\n",
              "      <td>1</td>\n",
              "      <td>2000</td>\n",
              "      <td>0</td>\n",
              "      <td>Crystal Caves - Level 1</td>\n",
              "      <td>Clip</td>\n",
              "      <td>CRYSTALCAVES</td>\n",
              "      <td>2019-09-10</td>\n",
              "      <td>9</td>\n",
              "      <td>2019</td>\n",
              "      <td>1</td>\n",
              "      <td>16</td>\n",
              "    </tr>\n",
              "    <tr>\n",
              "      <th>4</th>\n",
              "      <td>7d093bf9</td>\n",
              "      <td>a022c3f60ba547e7</td>\n",
              "      <td>{\"version\":\"1.0\",\"round\":0,\"event_count\":1,\"ga...</td>\n",
              "      <td>00abaee7</td>\n",
              "      <td>1</td>\n",
              "      <td>2000</td>\n",
              "      <td>0</td>\n",
              "      <td>Chow Time</td>\n",
              "      <td>Game</td>\n",
              "      <td>CRYSTALCAVES</td>\n",
              "      <td>2019-09-10</td>\n",
              "      <td>9</td>\n",
              "      <td>2019</td>\n",
              "      <td>1</td>\n",
              "      <td>16</td>\n",
              "    </tr>\n",
              "  </tbody>\n",
              "</table>\n",
              "</div>"
            ],
            "text/plain": [
              "   event_id      game_session  \\\n",
              "0  27253bdc  0ea9ecc81a565215   \n",
              "1  27253bdc  c1ea43d8b8261d27   \n",
              "2  27253bdc  7ed86c6b72e725e2   \n",
              "3  27253bdc  7e516ace50e7fe67   \n",
              "4  7d093bf9  a022c3f60ba547e7   \n",
              "\n",
              "                                          event_data installation_id  \\\n",
              "0             {\"event_code\": 2000, \"event_count\": 1}        00abaee7   \n",
              "1             {\"event_code\": 2000, \"event_count\": 1}        00abaee7   \n",
              "2             {\"event_code\": 2000, \"event_count\": 1}        00abaee7   \n",
              "3             {\"event_code\": 2000, \"event_count\": 1}        00abaee7   \n",
              "4  {\"version\":\"1.0\",\"round\":0,\"event_count\":1,\"ga...        00abaee7   \n",
              "\n",
              "   event_count  event_code  game_time                    title  type  \\\n",
              "0            1        2000          0  Welcome to Lost Lagoon!  Clip   \n",
              "1            1        2000          0     Magma Peak - Level 1  Clip   \n",
              "2            1        2000          0     Magma Peak - Level 2  Clip   \n",
              "3            1        2000          0  Crystal Caves - Level 1  Clip   \n",
              "4            1        2000          0                Chow Time  Game   \n",
              "\n",
              "          world        date  month  year  day_of_week  hour  \n",
              "0          NONE  2019-09-10      9  2019            1    16  \n",
              "1     MAGMAPEAK  2019-09-10      9  2019            1    16  \n",
              "2     MAGMAPEAK  2019-09-10      9  2019            1    16  \n",
              "3  CRYSTALCAVES  2019-09-10      9  2019            1    16  \n",
              "4  CRYSTALCAVES  2019-09-10      9  2019            1    16  "
            ]
          },
          "metadata": {
            "tags": []
          },
          "execution_count": 38
        }
      ]
    },
    {
      "cell_type": "code",
      "metadata": {
        "id": "ZWCv1iBKQFs9",
        "colab_type": "code",
        "colab": {}
      },
      "source": [
        ""
      ],
      "execution_count": 0,
      "outputs": []
    },
    {
      "cell_type": "code",
      "metadata": {
        "id": "RGfw0mljQFrC",
        "colab_type": "code",
        "colab": {}
      },
      "source": [
        ""
      ],
      "execution_count": 0,
      "outputs": []
    },
    {
      "cell_type": "code",
      "metadata": {
        "id": "EskvCAVKQFhG",
        "colab_type": "code",
        "colab": {}
      },
      "source": [
        ""
      ],
      "execution_count": 0,
      "outputs": []
    }
  ]
}